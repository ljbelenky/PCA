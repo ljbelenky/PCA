{
 "cells": [
  {
   "cell_type": "code",
   "execution_count": 1,
   "id": "679ad983",
   "metadata": {},
   "outputs": [],
   "source": [
    "from PIL import Image\n",
    "import pandas as pd\n",
    "import numpy as np\n",
    "import matplotlib.pyplot as plt\n",
    "from sklearn.decomposition import PCA"
   ]
  },
  {
   "cell_type": "markdown",
   "id": "373c8272",
   "metadata": {},
   "source": [
    "## We start with a large array which is the red channel of an image of the moon"
   ]
  },
  {
   "cell_type": "code",
   "execution_count": 2,
   "id": "6c6b1abd",
   "metadata": {},
   "outputs": [
    {
     "ename": "FileNotFoundError",
     "evalue": "[Errno 2] No such file or directory: 'moon.jpeg'",
     "output_type": "error",
     "traceback": [
      "\u001b[0;31m---------------------------------------------------------------------------\u001b[0m",
      "\u001b[0;31mFileNotFoundError\u001b[0m                         Traceback (most recent call last)",
      "Cell \u001b[0;32mIn[2], line 1\u001b[0m\n\u001b[0;32m----> 1\u001b[0m image \u001b[38;5;241m=\u001b[39m \u001b[43mImage\u001b[49m\u001b[38;5;241;43m.\u001b[39;49m\u001b[43mopen\u001b[49m\u001b[43m(\u001b[49m\u001b[38;5;124;43m'\u001b[39;49m\u001b[38;5;124;43mmoon.jpeg\u001b[39;49m\u001b[38;5;124;43m'\u001b[39;49m\u001b[43m)\u001b[49m\n\u001b[1;32m      2\u001b[0m image_array \u001b[38;5;241m=\u001b[39m np\u001b[38;5;241m.\u001b[39marray(image)[:,:,\u001b[38;5;241m0\u001b[39m]\n\u001b[1;32m      3\u001b[0m plt\u001b[38;5;241m.\u001b[39mimshow(image_array)\n",
      "File \u001b[0;32m~/anaconda3/lib/python3.10/site-packages/PIL/Image.py:3227\u001b[0m, in \u001b[0;36mopen\u001b[0;34m(fp, mode, formats)\u001b[0m\n\u001b[1;32m   3224\u001b[0m     filename \u001b[38;5;241m=\u001b[39m fp\n\u001b[1;32m   3226\u001b[0m \u001b[38;5;28;01mif\u001b[39;00m filename:\n\u001b[0;32m-> 3227\u001b[0m     fp \u001b[38;5;241m=\u001b[39m \u001b[43mbuiltins\u001b[49m\u001b[38;5;241;43m.\u001b[39;49m\u001b[43mopen\u001b[49m\u001b[43m(\u001b[49m\u001b[43mfilename\u001b[49m\u001b[43m,\u001b[49m\u001b[43m \u001b[49m\u001b[38;5;124;43m\"\u001b[39;49m\u001b[38;5;124;43mrb\u001b[39;49m\u001b[38;5;124;43m\"\u001b[39;49m\u001b[43m)\u001b[49m\n\u001b[1;32m   3228\u001b[0m     exclusive_fp \u001b[38;5;241m=\u001b[39m \u001b[38;5;28;01mTrue\u001b[39;00m\n\u001b[1;32m   3230\u001b[0m \u001b[38;5;28;01mtry\u001b[39;00m:\n",
      "\u001b[0;31mFileNotFoundError\u001b[0m: [Errno 2] No such file or directory: 'moon.jpeg'"
     ]
    }
   ],
   "source": [
    "image = Image.open('moon.jpeg')\n",
    "image_array = np.array(image)[:,:,0]\n",
    "plt.imshow(image_array);"
   ]
  },
  {
   "cell_type": "markdown",
   "id": "14e8fab6",
   "metadata": {},
   "source": [
    "## Check the size of the array: there are nearly 4 million values"
   ]
  },
  {
   "cell_type": "code",
   "execution_count": null,
   "id": "d3732a38",
   "metadata": {},
   "outputs": [],
   "source": [
    "image_array.shape, image_array.size"
   ]
  },
  {
   "cell_type": "markdown",
   "id": "e3ac5ae0",
   "metadata": {},
   "source": [
    "## We can reduce the size of this array by representing it as the dot product of two smaller arrays.\n",
    "\n",
    "### When we do this, we lose some information"
   ]
  },
  {
   "cell_type": "code",
   "execution_count": null,
   "id": "01a7d0ee",
   "metadata": {},
   "outputs": [],
   "source": [
    "N = (1,2,4,8,16,32,64, 128)\n",
    "for n, ax in zip(N, plt.subplots(len(N), figsize=(10,20))[1]):\n",
    "    pca = PCA(n_components=n).fit(image_array)\n",
    "    A = pca.transform(image_array)\n",
    "    B = pca.components_\n",
    "    reconstruction = A@B\n",
    "    ax.imshow(reconstruction)\n",
    "    ax.set_title(f'components: {n}, {100*(A.size + B.size)/image_array.size:.2f}%')\n",
    "    ax.set_xticklabels('')"
   ]
  },
  {
   "cell_type": "markdown",
   "id": "cd40fd88",
   "metadata": {},
   "source": [
    "## When the array is factored into two arrays of `(m x 32)`  and `(32 x n)`, nearly all of the useful data is retained and the total number of values is about 3.21% of the size of the original array."
   ]
  },
  {
   "cell_type": "code",
   "execution_count": null,
   "id": "7fd98bf1",
   "metadata": {},
   "outputs": [],
   "source": []
  },
  {
   "cell_type": "code",
   "execution_count": null,
   "id": "e23ea665",
   "metadata": {},
   "outputs": [],
   "source": []
  }
 ],
 "metadata": {
  "kernelspec": {
   "display_name": "Python 3 (ipykernel)",
   "language": "python",
   "name": "python3"
  },
  "language_info": {
   "codemirror_mode": {
    "name": "ipython",
    "version": 3
   },
   "file_extension": ".py",
   "mimetype": "text/x-python",
   "name": "python",
   "nbconvert_exporter": "python",
   "pygments_lexer": "ipython3",
   "version": "3.10.9"
  }
 },
 "nbformat": 4,
 "nbformat_minor": 5
}
